{
 "cells": [
  {
   "cell_type": "code",
   "execution_count": 1,
   "id": "094262f9",
   "metadata": {},
   "outputs": [],
   "source": [
    "from testpackage.main import check_works"
   ]
  },
  {
   "cell_type": "code",
   "execution_count": 2,
   "id": "bbfece40",
   "metadata": {},
   "outputs": [
    {
     "name": "stdout",
     "output_type": "stream",
     "text": [
      "Yes it works\n"
     ]
    }
   ],
   "source": [
    "check_works()"
   ]
  },
  {
   "cell_type": "code",
   "execution_count": 3,
   "id": "f51b8a83",
   "metadata": {},
   "outputs": [],
   "source": [
    "import requests"
   ]
  },
  {
   "cell_type": "code",
   "execution_count": 4,
   "id": "b1669a5a",
   "metadata": {},
   "outputs": [
    {
     "data": {
      "text/plain": [
       "'My Flask Response'"
      ]
     },
     "execution_count": 4,
     "metadata": {},
     "output_type": "execute_result"
    }
   ],
   "source": [
    "requests.get(\"http://docker_flask:8080\").text"
   ]
  },
  {
   "cell_type": "code",
   "execution_count": 5,
   "id": "2dd6ef75",
   "metadata": {},
   "outputs": [],
   "source": [
    "from sqlalchemy import create_engine"
   ]
  },
  {
   "cell_type": "code",
   "execution_count": 6,
   "id": "557f53d2",
   "metadata": {},
   "outputs": [
    {
     "data": {
      "text/plain": [
       "<sqlalchemy.engine.base.Connection at 0x7fa70cba9950>"
      ]
     },
     "execution_count": 6,
     "metadata": {},
     "output_type": "execute_result"
    }
   ],
   "source": [
    "POSTGRES_USER=\"psql_user\"\n",
    "POSTGRES_PASSWORD=\"psql_pw\"\n",
    "POSTGRES_DB=\"something_totally_random\"\n",
    "POSTGRES_HOST=\"docker_psql\"\n",
    "POSTGRES_PORT=\"5432\"\n",
    "\n",
    "CONN_STR = f\"postgresql+psycopg2://{POSTGRES_USER}:{POSTGRES_PASSWORD}@{POSTGRES_HOST}:{POSTGRES_PORT}/{POSTGRES_DB}\"\n",
    "engine = create_engine(CONN_STR)\n",
    "engine.connect()\n"
   ]
  },
  {
   "cell_type": "code",
   "execution_count": 7,
   "id": "44c63100",
   "metadata": {},
   "outputs": [
    {
     "data": {
      "text/plain": [
       "<sqlalchemy.engine.result.ResultProxy at 0x7fa70c377990>"
      ]
     },
     "execution_count": 7,
     "metadata": {},
     "output_type": "execute_result"
    }
   ],
   "source": [
    "engine.execute('DROP TABLE IF EXISTS \"EX1\"')"
   ]
  },
  {
   "cell_type": "code",
   "execution_count": 8,
   "id": "1c485725",
   "metadata": {},
   "outputs": [
    {
     "data": {
      "text/plain": [
       "<sqlalchemy.engine.result.ResultProxy at 0x7fa70c377510>"
      ]
     },
     "execution_count": 8,
     "metadata": {},
     "output_type": "execute_result"
    }
   ],
   "source": [
    "engine.execute('CREATE TABLE \"EX1\" (id INTEGER NOT NULL, name VARCHAR, PRIMARY KEY (id))')"
   ]
  },
  {
   "cell_type": "code",
   "execution_count": 9,
   "id": "97524b77",
   "metadata": {},
   "outputs": [
    {
     "data": {
      "text/plain": [
       "<sqlalchemy.engine.result.ResultProxy at 0x7fa6ebff09d0>"
      ]
     },
     "execution_count": 9,
     "metadata": {},
     "output_type": "execute_result"
    }
   ],
   "source": [
    "engine.execute(\"INSERT INTO \\\"EX1\\\"  (id,name) VALUES (1,'Ric')\")"
   ]
  },
  {
   "cell_type": "code",
   "execution_count": 10,
   "id": "0f18ebdf",
   "metadata": {},
   "outputs": [],
   "source": [
    "ans = engine.execute(\"SELECT * FROM \\\"EX1\\\"\")"
   ]
  },
  {
   "cell_type": "code",
   "execution_count": 11,
   "id": "17c6a13d",
   "metadata": {},
   "outputs": [
    {
     "data": {
      "text/plain": [
       "[(1, 'Ric')]"
      ]
     },
     "execution_count": 11,
     "metadata": {},
     "output_type": "execute_result"
    }
   ],
   "source": [
    "ans.fetchall()"
   ]
  },
  {
   "cell_type": "code",
   "execution_count": null,
   "id": "500d7c72",
   "metadata": {},
   "outputs": [],
   "source": []
  },
  {
   "cell_type": "code",
   "execution_count": null,
   "id": "3903fb79",
   "metadata": {},
   "outputs": [],
   "source": []
  }
 ],
 "metadata": {
  "kernelspec": {
   "display_name": "Python 3 (ipykernel)",
   "language": "python",
   "name": "python3"
  },
  "language_info": {
   "codemirror_mode": {
    "name": "ipython",
    "version": 3
   },
   "file_extension": ".py",
   "mimetype": "text/x-python",
   "name": "python",
   "nbconvert_exporter": "python",
   "pygments_lexer": "ipython3",
   "version": "3.7.12"
  }
 },
 "nbformat": 4,
 "nbformat_minor": 5
}
